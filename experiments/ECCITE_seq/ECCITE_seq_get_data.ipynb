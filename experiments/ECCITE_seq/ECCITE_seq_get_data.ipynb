{
 "cells": [
  {
   "cell_type": "markdown",
   "metadata": {},
   "source": [
    "### ECCITE_seq Dataset Download and Preprocessing "
   ]
  },
  {
   "cell_type": "markdown",
   "metadata": {},
   "source": [
    "Preprocessing data code from repository suinleelab **contrastiveVI**: https://github.com/suinleelab/contrastiveVI/blob/main/contrastive_vi/data/datasets/papalexi_2021.py"
   ]
  },
  {
   "cell_type": "markdown",
   "metadata": {},
   "source": [
    "The link to download the data is in the code. The ECCITE_seq data is from Gene Expression Omnibus (GEO) public genomics data repository (https://www.ncbi.nlm.nih.gov/geo/info/download.html) The license of the organization can be found here: https://catalog.data.gov/dataset/gene-expression-omnibus-geo. "
   ]
  },
  {
   "cell_type": "markdown",
   "metadata": {},
   "source": [
    "The python **anndata** package is found here: https://github.com/scverse/anndata?tab=BSD-3-Clause-1-ov-file\n",
    "\n",
    "The **scanpy** package is found here: https://github.com/scverse/scanpy\n",
    "\n",
    "The **requests** package is found here: https://github.com/psf/requests"
   ]
  },
  {
   "cell_type": "code",
   "execution_count": 4,
   "metadata": {},
   "outputs": [],
   "source": [
    "\"\"\"\n",
    "Download, read, and preprocess Papalexi et al. (2021) expression data.\n",
    "\n",
    "Single-cell expression data from Papalexi et al. Characterizing the molecular regulation\n",
    "of inhibitory immune checkpoints with multimodal single-cell screens. (Nature Genetics\n",
    "2021)\n",
    "\"\"\"\n",
    "import os\n",
    "import shutil\n",
    "\n",
    "import pandas as pd\n",
    "import scanpy as sc\n",
    "from anndata import AnnData\n",
    "\n",
    "import requests\n",
    "\n",
    "\n",
    "def download_binary_file(file_url: str, output_path: str) -> None:\n",
    "    \"\"\"\n",
    "    Download binary data file from a URL.\n",
    "\n",
    "    Args:\n",
    "    ----\n",
    "        file_url: URL where the file is hosted.\n",
    "        output_path: Output path for the downloaded file.\n",
    "\n",
    "    Returns\n",
    "    -------\n",
    "        None.\n",
    "    \"\"\"\n",
    "    request = requests.get(file_url)\n",
    "    with open(output_path, \"wb\") as f:\n",
    "        f.write(request.content)\n",
    "    print(f\"Downloaded data from {file_url} at {output_path}\")\n",
    "\n",
    "\n",
    "\n",
    "def download_papalexi_2021(output_path: str) -> None:\n",
    "    \"\"\"\n",
    "    Download Papalexi et al. 2021 data from the hosting URLs.\n",
    "\n",
    "    Args:\n",
    "    ----\n",
    "        output_path: Output path to store the downloaded and unzipped\n",
    "        directories.\n",
    "\n",
    "    Returns\n",
    "    -------\n",
    "        None. File directories are downloaded to output_path.\n",
    "    \"\"\"\n",
    "\n",
    "    counts_data_url = (\n",
    "        \"https://www.ncbi.nlm.nih.gov/geo/download/?acc=GSE153056&format=file\"\n",
    "    )\n",
    "    data_output_filename = os.path.join(output_path, \"GSE153056_RAW.tar\")\n",
    "    download_binary_file(counts_data_url, data_output_filename)\n",
    "    shutil.unpack_archive(data_output_filename, output_path)\n",
    "\n",
    "    metadata_url = (\n",
    "        \"https://www.ncbi.nlm.nih.gov/geo/download/?acc=GSE153056&\"\n",
    "        \"format=file&file=GSE153056_ECCITE_metadata.tsv.gz\"\n",
    "    )\n",
    "    metadata_filename = os.path.join(output_path, metadata_url.split(\"=\")[-1])\n",
    "    download_binary_file(metadata_url, metadata_filename)\n",
    "\n",
    "\n",
    "def read_papalexi_2021(file_directory: str) -> pd.DataFrame:\n",
    "    \"\"\"\n",
    "    Read the expression data for Papalexi et al. 2021 in the given directory.\n",
    "\n",
    "    Args:\n",
    "    ----\n",
    "        file_directory: Directory containing Papalexi et al. 2021 data.\n",
    "\n",
    "    Returns\n",
    "    -------\n",
    "        A pandas dataframe, with each column representing a cell\n",
    "        and each row representing a gene feature.\n",
    "    \"\"\"\n",
    "\n",
    "    matrix = pd.read_csv(\n",
    "        os.path.join(file_directory, \"GSM4633614_ECCITE_cDNA_counts.tsv.gz\"),\n",
    "        sep=\"\\t\",\n",
    "        index_col=0,\n",
    "    )\n",
    "    return matrix\n",
    "\n",
    "\n",
    "def preprocess_papalexi_2021(download_path: str, n_top_genes: int) -> AnnData:\n",
    "    \"\"\"\n",
    "    Preprocess expression data from Papalexi et al. 2021.\n",
    "\n",
    "    Args:\n",
    "    ----\n",
    "        download_path: Path containing the downloaded Papalexi et al. 2021 data files.\n",
    "        n_top_genes: Number of most variable genes to retain.\n",
    "\n",
    "    Returns\n",
    "    -------\n",
    "        An AnnData object containing single-cell expression data. The layer\n",
    "        \"count\" contains the count data for the most variable genes. The .X\n",
    "        variable contains the normalized and log-transformed data for the most variable\n",
    "        genes. A copy of data with all genes is stored in .raw.\n",
    "    \"\"\"\n",
    "\n",
    "    df = read_papalexi_2021(download_path)\n",
    "\n",
    "    # Switch dataframe from gene rows and cell columns to cell rows and gene columns\n",
    "    df = df.transpose()\n",
    "\n",
    "    metadata = pd.read_csv(\n",
    "        os.path.join(download_path, \"GSE153056_ECCITE_metadata.tsv.gz\"),\n",
    "        sep=\"\\t\",\n",
    "        index_col=0,\n",
    "    )\n",
    "\n",
    "    # metadata.to_csv(\"eccite_metadata.csv\")\n",
    "\n",
    "    # Note: By initializing the anndata object from a dataframe, variable names\n",
    "    # are automatically stored in adata.var\n",
    "    adata = AnnData(df)\n",
    "    adata.obs = metadata\n",
    "\n",
    "    # Protein measurements also collected as part of CITE-Seq\n",
    "    protein_counts_df = pd.read_csv(\n",
    "        os.path.join(download_path, \"GSM4633615_ECCITE_ADT_counts.tsv.gz\"),\n",
    "        sep=\"\\t\",\n",
    "        index_col=0,\n",
    "    )\n",
    "\n",
    "    # Switch dataframe from protein rows and cell columns to cell rows and protein\n",
    "    # columns\n",
    "    protein_counts_df = protein_counts_df.transpose()\n",
    "\n",
    "    # Storing protein counts in an obsm field as expected by totalVI\n",
    "    # (see https://docs.scvi-tools.org/en/stable/tutorials/notebooks/totalVI.html\n",
    "    # for an example). Since `protein_counts_df` is annotated with protein names,\n",
    "    # our obsm field will retain them as well.\n",
    "    # adata.obsm[constants.PROTEIN_EXPRESSION_KEY] = protein_counts_df\n",
    "\n",
    "    adata.layers[\"count\"] = adata.X.copy()\n",
    "    sc.pp.normalize_total(adata)\n",
    "    sc.pp.log1p(adata)\n",
    "    adata.raw = adata\n",
    "    sc.pp.highly_variable_genes(\n",
    "        adata, flavor=\"seurat_v3\", n_top_genes=n_top_genes, layer=\"count\", subset=True\n",
    "    )\n",
    "    adata = adata[adata.layers[\"count\"].sum(1) != 0]  # Remove cells with all zeros.\n",
    "    return adata"
   ]
  },
  {
   "cell_type": "code",
   "execution_count": 1,
   "metadata": {},
   "outputs": [],
   "source": [
    "root_data_path = \"...\"   # local computer data path to downloaad the dataset. \n",
    "\n",
    "download_papalexi_2021(root_data_path)"
   ]
  },
  {
   "cell_type": "code",
   "execution_count": 6,
   "metadata": {},
   "outputs": [],
   "source": [
    "n_top_genes = 1000 \n",
    "\n",
    "data = preprocess_papalexi_2021(root_data_path, n_top_genes)"
   ]
  },
  {
   "cell_type": "markdown",
   "metadata": {},
   "source": [
    "### Process to Get Foreground and Background  dataset\n",
    "Foreground is treatment, and background is control"
   ]
  },
  {
   "cell_type": "code",
   "execution_count": 1,
   "metadata": {},
   "outputs": [],
   "source": [
    "control = data[data.obs[\"crispr\"] == \"NT\"]\n",
    "m, k = control.shape\n",
    "print(m)\n",
    "print(control.obs)"
   ]
  },
  {
   "cell_type": "markdown",
   "metadata": {},
   "source": [
    "NT stands for Non-targeting"
   ]
  },
  {
   "cell_type": "code",
   "execution_count": 2,
   "metadata": {},
   "outputs": [],
   "source": [
    "treatment = data[data.obs[\"crispr\"] != \"NT\"]\n",
    "t, k = treatment.shape\n",
    "print(t)\n",
    "print(treatment.obs)"
   ]
  },
  {
   "cell_type": "code",
   "execution_count": 13,
   "metadata": {},
   "outputs": [],
   "source": [
    "background = control.to_df()\n",
    "foreground = treatment.to_df()\n",
    "\n",
    "background.to_csv(\"ECCITE_seq_back.csv\")\n",
    "foreground.to_csv(\"ECCITE_seq_fore.csv\")"
   ]
  }
 ],
 "metadata": {
  "kernelspec": {
   "display_name": "Python 3",
   "language": "python",
   "name": "python3"
  },
  "language_info": {
   "codemirror_mode": {
    "name": "ipython",
    "version": 3
   },
   "file_extension": ".py",
   "mimetype": "text/x-python",
   "name": "python",
   "nbconvert_exporter": "python",
   "pygments_lexer": "ipython3",
   "version": "3.11.7"
  }
 },
 "nbformat": 4,
 "nbformat_minor": 2
}
