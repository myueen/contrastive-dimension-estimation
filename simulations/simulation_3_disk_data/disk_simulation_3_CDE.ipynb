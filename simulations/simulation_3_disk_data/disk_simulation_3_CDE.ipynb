{
 "cells": [
  {
   "cell_type": "markdown",
   "metadata": {},
   "source": [
    "### Contrastive Dimension Estimation Function"
   ]
  },
  {
   "cell_type": "code",
   "execution_count": 2,
   "metadata": {},
   "outputs": [],
   "source": [
    "import numpy as np\n",
    "import pandas as pd\n",
    "import skdim\n",
    "from scipy.linalg import eigh\n",
    "from sklearn.preprocessing import scale\n",
    "\n",
    "\n",
    "def id_estimators(df, k):\n",
    "    # Maximum Likelihood algorithm\n",
    "    MLE = skdim.id.MLE(K=k).fit(df).dimension_\n",
    "    # Method Of Moments algorithm\n",
    "    MOM = skdim.id.MOM().fit(df).dimension_\n",
    "    L = {\n",
    "        'MLE': MLE,\n",
    "        'MOM': MOM,\n",
    "    }\n",
    "    return L\n",
    "\n",
    "\n",
    "def est_V1_V2(X1, X2, d1, d2):\n",
    "    OUT = {}\n",
    "    p = X1.shape[1]\n",
    "    Cx1 = np.cov(X1, rowvar=False)\n",
    "    Cx2 = np.cov(X2, rowvar=False)\n",
    "    # eigenvalues python package in increasing order\n",
    "    val1, vectors1 = eigh(Cx1)\n",
    "    idx = np.argsort(val1)\n",
    "    descending_idx = idx[::-1]\n",
    "    vectors1 = vectors1[:, descending_idx]\n",
    "    V1 = vectors1[:, 0:d1]\n",
    "    val2, vectors2 = eigh(Cx2)\n",
    "    idx_ = np.argsort(val2)\n",
    "    descending_idx_ = idx_[::-1]\n",
    "    vectors2 = vectors2[:, descending_idx_]\n",
    "    V2 = vectors2[:, 0:d2]\n",
    "    OUT['V1'] = V1\n",
    "    OUT['V2'] = V2\n",
    "    return OUT\n",
    "\n",
    "\n",
    "def sigma1_test_stat(X1, X2, d1, d2):\n",
    "    OUT = est_V1_V2(X1, X2, d1, d2)\n",
    "    U = OUT['V1']\n",
    "    V = OUT['V2']\n",
    "    M = np.matmul(U.T, V)\n",
    "    _, cosines, _ = np.linalg.svd(M)\n",
    "    cosines = np.minimum(1, np.maximum(-1, cosines))\n",
    "    return cosines[::-1][0]     # first elt of reversed cosines list\n",
    "\n",
    "\n",
    "def sing_vals(U, V):\n",
    "    M = np.matmul(U.T, V)\n",
    "    _, cosines, _ = np.linalg.svd(M)\n",
    "    cosines = np.minimum(1, np.maximum(-1, cosines))\n",
    "    return cosines\n",
    "\n",
    "\n",
    "def boot_test(X1, X2, d1, d2, B):\n",
    "    X1 = scale(X1, with_mean=True, with_std=False)\n",
    "    X2 = scale(X2, with_mean=True, with_std=False)\n",
    "    test_stat = sigma1_test_stat(X1, X2, d1, d2)\n",
    "    n1 = len(X1)\n",
    "    n2 = len(X2)\n",
    "    boot_stats = []\n",
    "    for j in range(1, B+1):\n",
    "        print(j)\n",
    "        idx1 = np.random.choice(range(n1), size=n1, replace=True)\n",
    "        X1t = X1[idx1, :]\n",
    "        combined = np.vstack((X1, X2))\n",
    "        idx2 = np.random.choice(range(n1+n2), size=n2, replace=True)\n",
    "        X2t = combined[idx2, :]\n",
    "        boot_stats.append(sigma1_test_stat(X1t, X2t, d1, d2))\n",
    "    p_value = np.mean(boot_stats < test_stat)\n",
    "    return {'test_stat': test_stat, 'p_value': p_value}\n",
    "\n",
    "\n",
    "def CD(X1, X2, d1, d2, epsilon=0.1, B=1000):\n",
    "    p = X1.shape[1]\n",
    "    OUT = est_V1_V2(X1, X2, d1, d2)\n",
    "    singular_vals = sing_vals(OUT['V1'], OUT['V2'])\n",
    "    singular_vals = singular_vals[::-1]\n",
    "    L = {}\n",
    "    L['CD'] = sum(singular_vals < 1 - epsilon) + max(d1-d2, 0)\n",
    "    test = boot_test(X1, X2, d1, d2, B)\n",
    "    L['test_stat'] = test['test_stat']\n",
    "    L['p_value'] = test['p_value']\n",
    "    L['singular_vals'] = singular_vals\n",
    "    L['d1'] = d1\n",
    "    L['d2'] = d2\n",
    "    return L\n",
    "\n",
    "\n",
    "def CDE(fg, bg):\n",
    "    L1 = id_estimators(fg, 10)\n",
    "    d1 = round(L1[\"MOM\"])\n",
    "    L2 = id_estimators(bg, 10)\n",
    "    d2 = round(L2[\"MOM\"])\n",
    "    return CD(fg, bg, d1, d2)\n"
   ]
  },
  {
   "cell_type": "markdown",
   "metadata": {},
   "source": [
    "### Disk Synthetic Data"
   ]
  },
  {
   "cell_type": "code",
   "execution_count": 2,
   "metadata": {},
   "outputs": [],
   "source": [
    "import pandas as pd\n",
    "import time\n",
    "\n",
    "start = time.time()\n",
    "\n",
    "disk_line_fore = pd.read_csv(\"disk_plus_line.csv\")\n",
    "disk_grass_back = pd.read_csv(\"disk_plus_grass.csv\")\n",
    "\n",
    "n, p = disk_line_fore.shape\n",
    "k, j = disk_grass_back.shape\n"
   ]
  },
  {
   "cell_type": "code",
   "execution_count": 3,
   "metadata": {},
   "outputs": [],
   "source": [
    "np.random.seed(42)\n",
    "\n",
    "CD(disk_line_fore, disk_grass_back, 4, 20, 0.1, 1000)"
   ]
  },
  {
   "cell_type": "code",
   "execution_count": null,
   "metadata": {},
   "outputs": [],
   "source": [
    "end = time.time()\n",
    "elapsed = end - start \n",
    "print(f'Time taken: {elapsed: .6f} seconds')"
   ]
  }
 ],
 "metadata": {
  "kernelspec": {
   "display_name": "Python 3 (ipykernel)",
   "language": "python",
   "name": "python3"
  },
  "language_info": {
   "codemirror_mode": {
    "name": "ipython",
    "version": 3
   },
   "file_extension": ".py",
   "mimetype": "text/x-python",
   "name": "python",
   "nbconvert_exporter": "python",
   "pygments_lexer": "ipython3",
   "version": "3.11.7"
  }
 },
 "nbformat": 4,
 "nbformat_minor": 4
}
