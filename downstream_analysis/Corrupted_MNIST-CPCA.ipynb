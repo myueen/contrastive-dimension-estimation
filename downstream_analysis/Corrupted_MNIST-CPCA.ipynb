{
 "cells": [
  {
   "cell_type": "code",
   "execution_count": 19,
   "id": "b5c19f32-7289-48fe-8622-a10d09d46568",
   "metadata": {},
   "outputs": [],
   "source": [
    "import numpy as np\n",
    "import pandas as pd\n",
    "#import skdim\n",
    "from scipy.linalg import eigh\n",
    "from sklearn.preprocessing import scale\n",
    "import random\n",
    "from sklearn.linear_model import LogisticRegression\n",
    "from sklearn.model_selection import cross_val_score"
   ]
  },
  {
   "cell_type": "code",
   "execution_count": 17,
   "id": "7238bfac-6a98-4af4-8dcb-df2ef0aa54a6",
   "metadata": {},
   "outputs": [],
   "source": [
    "foreground = np.load(\"foreground.npy\")\n",
    "background = np.load(\"background.npy\")\n",
    "flabels = np.load(\"foreground_labels.npy\")"
   ]
  },
  {
   "cell_type": "code",
   "execution_count": 4,
   "id": "a9795ff8-2dc1-4509-b0c4-ece1cafd6817",
   "metadata": {},
   "outputs": [
    {
     "name": "stdout",
     "output_type": "stream",
     "text": [
      "(5000, 784)\n",
      "(5000, 784)\n",
      "[[0.44313725 0.59215686 0.59215686]\n",
      " [0.44313725 0.44705882 0.44313725]\n",
      " [0.39607843 0.20392157 0.18431373]]\n",
      "[[0.45882353 0.56470588 0.5372549 ]\n",
      " [0.75294118 0.75686275 0.75686275]\n",
      " [0.51372549 0.45490196 0.44313725]]\n"
     ]
    }
   ],
   "source": [
    "print(foreground.shape)\n",
    "print(background.shape)\n",
    "print(foreground[:3, :3])\n",
    "print(background[:3, :3])"
   ]
  },
  {
   "cell_type": "code",
   "execution_count": 9,
   "id": "67b8ef45-c0dd-4df9-80fa-545af114ec20",
   "metadata": {},
   "outputs": [],
   "source": [
    "Sigma1 = np.cov(foreground.T)"
   ]
  },
  {
   "cell_type": "code",
   "execution_count": 10,
   "id": "9ea1334b-43df-4a7a-a0c7-0a949f655766",
   "metadata": {},
   "outputs": [],
   "source": [
    "Sigma2 = np.cov(background.T)"
   ]
  },
  {
   "cell_type": "code",
   "execution_count": 14,
   "id": "b81c881f-bc7c-4828-b8ba-462cbb70b8cb",
   "metadata": {},
   "outputs": [],
   "source": [
    "eigenvalues, eigenvectors = np.linalg.eig(Sigma1 - Sigma2)\n",
    "sorted_indices = np.argsort(eigenvalues)[::-1][:10]\n",
    "top_10_eigenvectors = eigenvectors[:, sorted_indices]\n"
   ]
  },
  {
   "cell_type": "code",
   "execution_count": 16,
   "id": "9eb0cf7d-5c71-4d6e-b854-038e4aaaec42",
   "metadata": {},
   "outputs": [
    {
     "data": {
      "text/plain": [
       "(784, 10)"
      ]
     },
     "execution_count": 16,
     "metadata": {},
     "output_type": "execute_result"
    }
   ],
   "source": [
    "top_10_eigenvectors.shape"
   ]
  },
  {
   "cell_type": "code",
   "execution_count": 21,
   "id": "89d3a4ef-f71a-4da7-8089-496b77cebd95",
   "metadata": {},
   "outputs": [],
   "source": [
    "X = foreground @ top_10_eigenvectors[:,:1]"
   ]
  },
  {
   "cell_type": "code",
   "execution_count": 22,
   "id": "a561624b-7980-4985-ae34-2eb07e93f841",
   "metadata": {},
   "outputs": [],
   "source": [
    "classifier = LogisticRegression()\n",
    "scores = cross_val_score(classifier, X, flabels, \n",
    "                         cv=5, scoring='accuracy')"
   ]
  },
  {
   "cell_type": "code",
   "execution_count": 23,
   "id": "f03480d1-658b-4ae5-8c8c-4fb3a4e3cb1a",
   "metadata": {},
   "outputs": [],
   "source": [
    "mean_accuracy = scores.mean()\n",
    "std_accuracy = scores.std()"
   ]
  },
  {
   "cell_type": "code",
   "execution_count": 24,
   "id": "9bffd72a-08e2-4656-8b7a-506c13164cce",
   "metadata": {},
   "outputs": [
    {
     "data": {
      "text/plain": [
       "0.583"
      ]
     },
     "execution_count": 24,
     "metadata": {},
     "output_type": "execute_result"
    }
   ],
   "source": [
    "mean_accuracy"
   ]
  },
  {
   "cell_type": "code",
   "execution_count": 25,
   "id": "3ea1ac8c-f48a-4818-8c0c-48c553059622",
   "metadata": {},
   "outputs": [
    {
     "data": {
      "text/plain": [
       "0.0061967733539318726"
      ]
     },
     "execution_count": 25,
     "metadata": {},
     "output_type": "execute_result"
    }
   ],
   "source": [
    "std_accuracy"
   ]
  },
  {
   "cell_type": "code",
   "execution_count": 26,
   "id": "c119e5ab-d2a9-4499-ac31-4d37587becb4",
   "metadata": {},
   "outputs": [],
   "source": [
    "stats = np.zeros((2, 10))"
   ]
  },
  {
   "cell_type": "code",
   "execution_count": 28,
   "id": "7f8d3476-4b90-4d63-99b1-e4d23181fb82",
   "metadata": {},
   "outputs": [],
   "source": [
    "np.random.seed(42)\n",
    "for i in range(10):\n",
    "    X = foreground @ top_10_eigenvectors[:,:i+1]\n",
    "    classifier = LogisticRegression()\n",
    "    scores = cross_val_score(classifier, X, flabels, \n",
    "                         cv=5, scoring='accuracy')\n",
    "    stats[0, i] = scores.mean()\n",
    "    stats[1, i] = scores.std()"
   ]
  },
  {
   "cell_type": "code",
   "execution_count": 29,
   "id": "2ece98d4-c06f-4aec-823e-c276406d203b",
   "metadata": {},
   "outputs": [
    {
     "data": {
      "text/plain": [
       "array([[0.583     , 0.9414    , 0.941     , 0.9432    , 0.9454    ,\n",
       "        0.9472    , 0.9464    , 0.9468    , 0.9474    , 0.9472    ],\n",
       "       [0.00619677, 0.00531413, 0.00576194, 0.00614492, 0.00674092,\n",
       "        0.00658483, 0.00731027, 0.00738647, 0.00662118, 0.00676461]])"
      ]
     },
     "execution_count": 29,
     "metadata": {},
     "output_type": "execute_result"
    }
   ],
   "source": [
    "stats"
   ]
  },
  {
   "cell_type": "code",
   "execution_count": null,
   "id": "d81a5c23-2429-4829-b839-f49004358973",
   "metadata": {},
   "outputs": [],
   "source": []
  }
 ],
 "metadata": {
  "kernelspec": {
   "display_name": "Python 3 (ipykernel)",
   "language": "python",
   "name": "python3"
  },
  "language_info": {
   "codemirror_mode": {
    "name": "ipython",
    "version": 3
   },
   "file_extension": ".py",
   "mimetype": "text/x-python",
   "name": "python",
   "nbconvert_exporter": "python",
   "pygments_lexer": "ipython3",
   "version": "3.10.9"
  }
 },
 "nbformat": 4,
 "nbformat_minor": 5
}
